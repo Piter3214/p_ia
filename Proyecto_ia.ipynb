{
 "cells": [
  {
   "cell_type": "code",
   "execution_count": 1,
   "id": "11b2a951",
   "metadata": {},
   "outputs": [
    {
     "name": "stdout",
     "output_type": "stream",
     "text": [
      "Tamaño del dataset: (100000, 16)\n",
      "Columnas:\n",
      " Index(['Transaction ID', 'Date', 'Day of Week', 'Time', 'Type of Card',\n",
      "       'Entry Mode', 'Amount', 'Type of Transaction', 'Merchant Group',\n",
      "       'Country of Transaction', 'Shipping Address', 'Country of Residence',\n",
      "       'Gender', 'Age', 'Bank', 'Fraud'],\n",
      "      dtype='object')\n",
      "\n",
      "Primeras filas:\n",
      "  Transaction ID       Date Day of Week  Time Type of Card Entry Mode Amount  \\\n",
      "0      #3577 209  14-Oct-20   Wednesday    19         Visa        Tap     £5   \n",
      "1      #3039 221  14-Oct-20   Wednesday    17   MasterCard        PIN   £288   \n",
      "2      #2694 780  14-Oct-20   Wednesday    14         Visa        Tap     £5   \n",
      "3      #2640 960  13-Oct-20     Tuesday    14         Visa        Tap    £28   \n",
      "4      #2771 031  13-Oct-20     Tuesday    23         Visa        CVC    £91   \n",
      "\n",
      "  Type of Transaction Merchant Group Country of Transaction Shipping Address  \\\n",
      "0                 POS  Entertainment         United Kingdom   United Kingdom   \n",
      "1                 POS       Services                    USA              USA   \n",
      "2                 POS     Restaurant                  India            India   \n",
      "3                 POS  Entertainment         United Kingdom            India   \n",
      "4              Online    Electronics                    USA              USA   \n",
      "\n",
      "  Country of Residence Gender   Age      Bank  Fraud  \n",
      "0       United Kingdom      M  25.2       RBS      0  \n",
      "1                  USA      F  49.6    Lloyds      0  \n",
      "2                India      F  42.2  Barclays      0  \n",
      "3       United Kingdom      F  51.0  Barclays      0  \n",
      "4       United Kingdom      M  38.0   Halifax      1  \n"
     ]
    }
   ],
   "source": [
    "# Importación de librerías\n",
    "import pandas as pd\n",
    "import numpy as np\n",
    "\n",
    " #Carga del dataset\n",
    "#\n",
    "df = pd.read_csv('C:/Users/nicolás/Desktop/CreditCardData.csv')\n",
    "\n",
    " # eploramos los datos\n",
    "print(\"Tamaño del dataset:\", df.shape)\n",
    "print(\"Columnas:\\n\", df.columns)\n",
    "print(\"\\nPrimeras filas:\")\n",
    "print(df.head())\n",
    "\n",
    "#cambiar el valor de las libras a un numero para ser más facil el uso del data frame\n",
    "# Elimina el símbolo de libra (£) y convierte a float\n",
    "df['Amount'] = df['Amount'].replace('[£,]', '', regex=True).astype(float)"
   ]
  },
  {
   "cell_type": "code",
   "execution_count": 2,
   "id": "98bbca34",
   "metadata": {},
   "outputs": [
    {
     "name": "stdout",
     "output_type": "stream",
     "text": [
      "<class 'pandas.core.frame.DataFrame'>\n",
      "RangeIndex: 100000 entries, 0 to 99999\n",
      "Data columns (total 16 columns):\n",
      " #   Column                  Non-Null Count   Dtype  \n",
      "---  ------                  --------------   -----  \n",
      " 0   Transaction ID          100000 non-null  object \n",
      " 1   Date                    100000 non-null  object \n",
      " 2   Day of Week             100000 non-null  object \n",
      " 3   Time                    100000 non-null  int64  \n",
      " 4   Type of Card            100000 non-null  object \n",
      " 5   Entry Mode              100000 non-null  object \n",
      " 6   Amount                  99994 non-null   float64\n",
      " 7   Type of Transaction     100000 non-null  object \n",
      " 8   Merchant Group          99990 non-null   object \n",
      " 9   Country of Transaction  100000 non-null  object \n",
      " 10  Shipping Address        99995 non-null   object \n",
      " 11  Country of Residence    100000 non-null  object \n",
      " 12  Gender                  99996 non-null   object \n",
      " 13  Age                     100000 non-null  float64\n",
      " 14  Bank                    100000 non-null  object \n",
      " 15  Fraud                   100000 non-null  int64  \n",
      "dtypes: float64(2), int64(2), object(12)\n",
      "memory usage: 12.2+ MB\n"
     ]
    }
   ],
   "source": [
    "df.info()"
   ]
  },
  {
   "cell_type": "code",
   "execution_count": 3,
   "id": "88d7f298",
   "metadata": {},
   "outputs": [
    {
     "name": "stdout",
     "output_type": "stream",
     "text": [
      "¿Hay valores faltantes en la base de datos? True\n",
      "Transaction ID            False\n",
      "Date                      False\n",
      "Day of Week               False\n",
      "Time                      False\n",
      "Type of Card              False\n",
      "Entry Mode                False\n",
      "Amount                     True\n",
      "Type of Transaction       False\n",
      "Merchant Group             True\n",
      "Country of Transaction    False\n",
      "Shipping Address           True\n",
      "Country of Residence      False\n",
      "Gender                     True\n",
      "Age                       False\n",
      "Bank                      False\n",
      "Fraud                     False\n",
      "dtype: bool\n"
     ]
    }
   ],
   "source": [
    "# valores de si hay valores nulos\n",
    "tiene_valores_faltantes = df.isnull().any().any()\n",
    "print(f\"¿Hay valores faltantes en la base de datos? {tiene_valores_faltantes}\")\n",
    "valores_faltantes_por_columna = df.isnull().any()\n",
    "print(valores_faltantes_por_columna)\n",
    "matriz_valores_faltantes = df.isnull()\n"
   ]
  },
  {
   "cell_type": "code",
   "execution_count": 4,
   "id": "548990de",
   "metadata": {},
   "outputs": [],
   "source": [
    "col_nulos= df.columns[df.isnull().any()]\n",
    "\n",
    "# Aplicar imputación:\n",
    "\n",
    "for col in col_nulos:\n",
    "    if df[col].dtype == 'object':\n",
    "        df[col] = df[col].fillna(np.nan)\n",
    "    else:\n",
    "        df[col] = df[col].fillna(0)\n",
    "\n",
    "# Verificar que ya no haya valores nulos en columnas numéricas\n",
    "rectificar = df[col_nulos].isnull().sum()"
   ]
  },
  {
   "cell_type": "code",
   "execution_count": 5,
   "id": "d27b8e9c",
   "metadata": {},
   "outputs": [
    {
     "data": {
      "text/plain": [
       "Amount               0\n",
       "Merchant Group      10\n",
       "Shipping Address     5\n",
       "Gender               4\n",
       "dtype: int64"
      ]
     },
     "execution_count": 5,
     "metadata": {},
     "output_type": "execute_result"
    }
   ],
   "source": [
    "rectificar"
   ]
  },
  {
   "cell_type": "code",
   "execution_count": 6,
   "id": "07b59d15",
   "metadata": {},
   "outputs": [
    {
     "name": "stdout",
     "output_type": "stream",
     "text": [
      "¿Hay valores faltantes en la base de datos? True\n",
      "Transaction ID            False\n",
      "Date                      False\n",
      "Day of Week               False\n",
      "Time                      False\n",
      "Type of Card              False\n",
      "Entry Mode                False\n",
      "Amount                    False\n",
      "Type of Transaction       False\n",
      "Merchant Group             True\n",
      "Country of Transaction    False\n",
      "Shipping Address           True\n",
      "Country of Residence      False\n",
      "Gender                     True\n",
      "Age                       False\n",
      "Bank                      False\n",
      "Fraud                     False\n",
      "dtype: bool\n"
     ]
    }
   ],
   "source": [
    "# valores de si hay valores nulos\n",
    "tiene_valores_faltantes = df.isnull().any().any()\n",
    "print(f\"¿Hay valores faltantes en la base de datos? {tiene_valores_faltantes}\")\n",
    "valores_faltantes_por_columna = df.isnull().any()\n",
    "print(valores_faltantes_por_columna)\n",
    "matriz_valores_faltantes = df.isnull()"
   ]
  },
  {
   "cell_type": "code",
   "execution_count": 7,
   "id": "87867f82",
   "metadata": {},
   "outputs": [
    {
     "name": "stderr",
     "output_type": "stream",
     "text": [
      "C:\\Users\\nicolás\\AppData\\Local\\Temp\\ipykernel_32260\\3507343748.py:1: FutureWarning: A value is trying to be set on a copy of a DataFrame or Series through chained assignment using an inplace method.\n",
      "The behavior will change in pandas 3.0. This inplace method will never work because the intermediate object on which we are setting values always behaves as a copy.\n",
      "\n",
      "For example, when doing 'df[col].method(value, inplace=True)', try using 'df.method({col: value}, inplace=True)' or df[col] = df[col].method(value) instead, to perform the operation inplace on the original object.\n",
      "\n",
      "\n",
      "  df['Merchant Group'].fillna('Missing', inplace=True)\n",
      "C:\\Users\\nicolás\\AppData\\Local\\Temp\\ipykernel_32260\\3507343748.py:2: FutureWarning: A value is trying to be set on a copy of a DataFrame or Series through chained assignment using an inplace method.\n",
      "The behavior will change in pandas 3.0. This inplace method will never work because the intermediate object on which we are setting values always behaves as a copy.\n",
      "\n",
      "For example, when doing 'df[col].method(value, inplace=True)', try using 'df.method({col: value}, inplace=True)' or df[col] = df[col].method(value) instead, to perform the operation inplace on the original object.\n",
      "\n",
      "\n",
      "  df['Shipping Address'].fillna('Missing', inplace=True)\n",
      "C:\\Users\\nicolás\\AppData\\Local\\Temp\\ipykernel_32260\\3507343748.py:3: FutureWarning: A value is trying to be set on a copy of a DataFrame or Series through chained assignment using an inplace method.\n",
      "The behavior will change in pandas 3.0. This inplace method will never work because the intermediate object on which we are setting values always behaves as a copy.\n",
      "\n",
      "For example, when doing 'df[col].method(value, inplace=True)', try using 'df.method({col: value}, inplace=True)' or df[col] = df[col].method(value) instead, to perform the operation inplace on the original object.\n",
      "\n",
      "\n",
      "  df['Gender'].fillna('Missing', inplace=True)\n"
     ]
    }
   ],
   "source": [
    "df['Merchant Group'].fillna('Missing', inplace=True)\n",
    "df['Shipping Address'].fillna('Missing', inplace=True)\n",
    "df['Gender'].fillna('Missing', inplace=True)"
   ]
  },
  {
   "cell_type": "code",
   "execution_count": 8,
   "id": "408f7fcc",
   "metadata": {},
   "outputs": [
    {
     "name": "stdout",
     "output_type": "stream",
     "text": [
      "¿Hay valores faltantes en la base de datos? False\n",
      "Transaction ID            False\n",
      "Date                      False\n",
      "Day of Week               False\n",
      "Time                      False\n",
      "Type of Card              False\n",
      "Entry Mode                False\n",
      "Amount                    False\n",
      "Type of Transaction       False\n",
      "Merchant Group            False\n",
      "Country of Transaction    False\n",
      "Shipping Address          False\n",
      "Country of Residence      False\n",
      "Gender                    False\n",
      "Age                       False\n",
      "Bank                      False\n",
      "Fraud                     False\n",
      "dtype: bool\n"
     ]
    }
   ],
   "source": [
    "# valores de si hay valores nulos\n",
    "tiene_valores_faltantes = df.isnull().any().any()\n",
    "print(f\"¿Hay valores faltantes en la base de datos? {tiene_valores_faltantes}\")\n",
    "valores_faltantes_por_columna = df.isnull().any()\n",
    "print(valores_faltantes_por_columna)\n",
    "matriz_valores_faltantes = df.isnull()"
   ]
  }
 ],
 "metadata": {
  "kernelspec": {
   "display_name": "base",
   "language": "python",
   "name": "python3"
  },
  "language_info": {
   "codemirror_mode": {
    "name": "ipython",
    "version": 3
   },
   "file_extension": ".py",
   "mimetype": "text/x-python",
   "name": "python",
   "nbconvert_exporter": "python",
   "pygments_lexer": "ipython3",
   "version": "3.12.7"
  }
 },
 "nbformat": 4,
 "nbformat_minor": 5
}
